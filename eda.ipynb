{
 "cells": [
  {
   "cell_type": "code",
   "execution_count": 1,
   "id": "69375e57",
   "metadata": {},
   "outputs": [
    {
     "ename": "",
     "evalue": "",
     "output_type": "error",
     "traceback": [
      "\u001b[1;31mFailed to start the Kernel. \n",
      "\u001b[1;31mView Jupyter <a href='command:jupyter.viewOutput'>log</a> for further details."
     ]
    }
   ],
   "source": [
    "import pandas as pd\n",
    "import numpy as np\n",
    "import matplotlib.pyplot as plt \n",
    "import seaborn as sns"
   ]
  },
  {
   "cell_type": "code",
   "execution_count": 2,
   "id": "ccd58c95",
   "metadata": {},
   "outputs": [],
   "source": [
    "dataset = pd.read_csv('data\\winequality-red.csv')\n",
    "\n",
    "print(dataset,dataset.shape)"
   ]
  },
  {
   "cell_type": "code",
   "execution_count": 3,
   "id": "ab25e3fe",
   "metadata": {},
   "outputs": [],
   "source": [
    "print(dataset.isnull().sum())"
   ]
  },
  {
   "cell_type": "code",
   "execution_count": 4,
   "id": "befe06f3",
   "metadata": {},
   "outputs": [],
   "source": [
    "dataset = dataset.dropna()"
   ]
  },
  {
   "cell_type": "code",
   "execution_count": 5,
   "id": "0106c272",
   "metadata": {},
   "outputs": [],
   "source": [
    "dataset['target'] = (dataset['quality'] >=6).astype(int)"
   ]
  },
  {
   "cell_type": "code",
   "execution_count": 6,
   "id": "db2b4532",
   "metadata": {},
   "outputs": [],
   "source": [
    "X = dataset.drop(['quality', 'target'], axis=1)\n",
    "y = dataset['target']\n"
   ]
  },
  {
   "cell_type": "markdown",
   "id": "cc6d03bb",
   "metadata": {},
   "source": [
    "Histogram"
   ]
  },
  {
   "cell_type": "code",
   "execution_count": 7,
   "id": "8f4ce6f5",
   "metadata": {},
   "outputs": [],
   "source": [
    "plt.hist(dataset['quality'].head(100), bins=30,\n",
    "color='blue', edgecolor='black')\n",
    "plt.title('Histogram')\n",
    "plt.xticks(rotation=90)\n",
    "plt.xlabel('quality')\n",
    "plt.ylabel('pH')\n",
    "plt.show()"
   ]
  },
  {
   "cell_type": "code",
   "execution_count": 8,
   "id": "5a8e719f",
   "metadata": {},
   "outputs": [],
   "source": [
    "data=dataset.iloc[:,0:11]\n",
    "print(data)"
   ]
  },
  {
   "cell_type": "code",
   "execution_count": 9,
   "id": "53889cb2",
   "metadata": {},
   "outputs": [],
   "source": [
    "target=dataset['target']\n",
    "print(target)"
   ]
  },
  {
   "cell_type": "code",
   "execution_count": 10,
   "id": "96d0a9ed",
   "metadata": {},
   "outputs": [],
   "source": [
    "from sklearn.model_selection import train_test_split\n",
    "\n",
    "train_data,test_data,train_target,test_target=train_test_split(data,target,test_size=0.2)\n",
    "\n",
    "print(test_data,test_data.shape)"
   ]
  },
  {
   "cell_type": "code",
   "execution_count": 11,
   "id": "ef9c083c",
   "metadata": {},
   "outputs": [],
   "source": [
    "\n",
    "print(test_target,test_target.shape)"
   ]
  },
  {
   "cell_type": "code",
   "execution_count": 12,
   "id": "c795bd9d",
   "metadata": {},
   "outputs": [],
   "source": [
    "from sklearn.svm import SVC\n",
    "model=SVC(kernel='linear',degree=2)\n"
   ]
  },
  {
   "cell_type": "code",
   "execution_count": 13,
   "id": "bf974849",
   "metadata": {},
   "outputs": [],
   "source": [
    "model.fit(train_data,train_target)"
   ]
  },
  {
   "cell_type": "code",
   "execution_count": 14,
   "id": "526af21c",
   "metadata": {},
   "outputs": [],
   "source": [
    "predicted_target=model.predict(test_data)\n",
    "\n",
    "print('Predicted Target: ',predicted_target)\n",
    "\n"
   ]
  },
  {
   "cell_type": "code",
   "execution_count": 15,
   "id": "62846bc4",
   "metadata": {},
   "outputs": [],
   "source": [
    "print('test target :',test_target)"
   ]
  },
  {
   "cell_type": "code",
   "execution_count": 16,
   "id": "a4eff0ea",
   "metadata": {},
   "outputs": [],
   "source": [
    "from sklearn.metrics import accuracy_score\n",
    "\n",
    "acc=accuracy_score(test_target,predicted_target)\n",
    "print('accuracy_score: ',acc)"
   ]
  },
  {
   "cell_type": "markdown",
   "id": "25390a6c",
   "metadata": {},
   "source": [
    "RandomForest"
   ]
  },
  {
   "cell_type": "code",
   "execution_count": 17,
   "id": "b9658e76",
   "metadata": {},
   "outputs": [],
   "source": [
    "from sklearn.ensemble import RandomForestClassifier\n",
    "\n",
    "model_2 = RandomForestClassifier(random_state=42)"
   ]
  },
  {
   "cell_type": "code",
   "execution_count": 18,
   "id": "f624fc60",
   "metadata": {},
   "outputs": [],
   "source": [
    "model_2.fit(train_data,train_target)"
   ]
  },
  {
   "cell_type": "code",
   "execution_count": 19,
   "id": "6ddd101f",
   "metadata": {},
   "outputs": [],
   "source": [
    "predicted_target=model_2.predict(test_data)\n",
    "\n",
    "print('Predicted Target: ',predicted_target)"
   ]
  },
  {
   "cell_type": "code",
   "execution_count": 20,
   "id": "0549dab1",
   "metadata": {},
   "outputs": [],
   "source": [
    "print('test target :',test_target)"
   ]
  },
  {
   "cell_type": "code",
   "execution_count": 21,
   "id": "1c7d8a67",
   "metadata": {},
   "outputs": [],
   "source": [
    "from sklearn.metrics import accuracy_score\n",
    "\n",
    "acc=accuracy_score(test_target,predicted_target)\n",
    "print('accuracy_score: ',acc)"
   ]
  },
  {
   "cell_type": "code",
   "execution_count": 22,
   "id": "634655a7",
   "metadata": {},
   "outputs": [],
   "source": [
    "import pickle"
   ]
  },
  {
   "cell_type": "code",
   "execution_count": 23,
   "id": "c5164cc8",
   "metadata": {},
   "outputs": [],
   "source": [
    "with open('model_pickle_2','wb') as f:\n",
    "    pickle.dump(model_2,f)"
   ]
  },
  {
   "cell_type": "code",
   "execution_count": 24,
   "id": "aa94836c",
   "metadata": {},
   "outputs": [],
   "source": [
    "with open('model_pickle_2','rb') as f:\n",
    "     model_2 = pickle.load(f)"
   ]
  },
  {
   "cell_type": "code",
   "execution_count": 25,
   "id": "15f2c0c1",
   "metadata": {},
   "outputs": [],
   "source": [
    "sample_data = np.array([[7.3, 0.65, 0.0, 1.2, 0.065,\n",
    "                         15.0, 21.0, 0.9946, 3.39,\n",
    "                         0.47, 10]])"
   ]
  },
  {
   "cell_type": "code",
   "execution_count": 26,
   "id": "86aef2b0",
   "metadata": {},
   "outputs": [],
   "source": [
    "predicted_quality = model_2.predict(sample_data)\n",
    "\n",
    "print(\"Predicted Wine Quality:\", predicted_quality[0])"
   ]
  },
  {
   "cell_type": "code",
   "execution_count": 27,
   "id": "9d210a93",
   "metadata": {},
   "outputs": [],
   "source": [
    "import sklearn\n",
    "print(sklearn.__version__)\n"
   ]
  },
  {
   "cell_type": "code",
   "execution_count": 28,
   "id": "a315141c",
   "metadata": {},
   "outputs": [],
   "source": [
    "import sklearn\n",
    "print(sklearn.__version__)\n",
    "\n"
   ]
  },
  {
   "cell_type": "code",
   "execution_count": null,
   "id": "f6a39270",
   "metadata": {},
   "outputs": [],
   "source": [
    "import matplotlib\n",
    "print(matplotlib.__version__)\n"
   ]
  }
 ],
 "metadata": {
  "kernelspec": {
   "display_name": "Python (ml-streamlit)",
   "language": "python",
   "name": "ml-streamlit"
  }
 },
 "nbformat": 4,
 "nbformat_minor": 5
}
